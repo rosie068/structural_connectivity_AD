{
 "cells": [
  {
   "cell_type": "code",
   "execution_count": null,
   "id": "85631c93",
   "metadata": {},
   "outputs": [],
   "source": [
    "import pipeline_functions as myfunc\n",
    "import pandas as pd\n",
    "import numpy as np"
   ]
  },
  {
   "cell_type": "code",
   "execution_count": null,
   "id": "550eacd5",
   "metadata": {},
   "outputs": [],
   "source": [
    "# read in adjacency matrices\n",
    "CDR_file = \"ADNI1_CDR_diagnosis.csv\"\n",
    "adj_path = \"UCSF_longitudinal_adj\"\n",
    "As, N, M, normal_group, AD_group, combined_group = myfunc.read_data(CDR_file, adj_path)"
   ]
  },
  {
   "cell_type": "code",
   "execution_count": null,
   "id": "f97cf21c",
   "metadata": {},
   "outputs": [],
   "source": [
    "# joint graph embedding\n",
    "el = 2e5\n",
    "e =  2e0\n",
    "d = 4\n",
    "\n",
    "l, h = myfunc.joint_graph_embedding(el, e, d, As, N, M)"
   ]
  },
  {
   "cell_type": "markdown",
   "id": "747be232",
   "metadata": {},
   "source": [
    "### analysis without considering confounders"
   ]
  },
  {
   "cell_type": "code",
   "execution_count": null,
   "id": "7b6491c6",
   "metadata": {},
   "outputs": [],
   "source": [
    "# group difference analysis with F-test\n",
    "tensor_all = myfunc.construct_tensor(l,h)\n",
    "num_dim = tensor_all.shape[1]\n",
    "num_struct = tensor_all.shape[-1]\n",
    "\n",
    "# by networks only\n",
    "myfunc.testing_for_networks(tensor_all, combined_group, normal_group, AD_group,\n",
    "                            num_dim,num_struct)"
   ]
  },
  {
   "cell_type": "code",
   "execution_count": null,
   "id": "1a509078",
   "metadata": {},
   "outputs": [],
   "source": [
    "# by network-structure pairs and network-structure-structure triples\n",
    "myfunc.testing_for_tuples(tensor_all, combined_group, normal_group, AD_group, num_dim,\n",
    "                          num_struct)"
   ]
  },
  {
   "cell_type": "markdown",
   "id": "d27faac3",
   "metadata": {},
   "source": [
    "### analysis with confounder regression"
   ]
  },
  {
   "cell_type": "code",
   "execution_count": null,
   "id": "58824f9e",
   "metadata": {},
   "outputs": [],
   "source": [
    "sex_age_file = \"dataset/subjects_sex_age_summary.csv\"\n",
    "icv_dir = \"dataset/UCSF_longitudinal_ICV\"\n",
    "summary_df = myfunc.get_confounder_data(sex_age_file, icv_dir)"
   ]
  },
  {
   "cell_type": "code",
   "execution_count": null,
   "id": "479d613c",
   "metadata": {},
   "outputs": [],
   "source": [
    "# group difference analysis with F-test\n",
    "tensor_all = myfunc.construct_tensor(l,h)\n",
    "num_dim = tensor_all.shape[1]\n",
    "num_struct = tensor_all.shape[-1]"
   ]
  },
  {
   "cell_type": "code",
   "execution_count": null,
   "id": "1f0f08c2",
   "metadata": {},
   "outputs": [],
   "source": [
    "# by networks only\n",
    "tensor_network = np.mean(np.mean(tensor_all, axis=-1), axis=-1)\n",
    "l = tensor_network\n",
    "print(l.shape)\n",
    "\n",
    "myfunc.testing_for_networks_confounder(summary, combined_group, AD_group, l)"
   ]
  },
  {
   "cell_type": "code",
   "execution_count": null,
   "id": "b041c2a8",
   "metadata": {},
   "outputs": [],
   "source": [
    "# by pairs\n",
    "tensor_tuple = np.mean(tensor_all, axis=-1)\n",
    "myfunc.testing_for_tuples_confounder(summary, combined_group, AD_group, tensor_tuple)"
   ]
  },
  {
   "cell_type": "code",
   "execution_count": null,
   "id": "1f817429",
   "metadata": {},
   "outputs": [],
   "source": [
    "# by triples\n",
    "myfunc.testing_for_triples_confounder(summary, combined_group, AD_group, tensor_all)"
   ]
  }
 ],
 "metadata": {
  "kernelspec": {
   "display_name": "myenv",
   "language": "python",
   "name": "myenv"
  },
  "language_info": {
   "codemirror_mode": {
    "name": "ipython",
    "version": 3
   },
   "file_extension": ".py",
   "mimetype": "text/x-python",
   "name": "python",
   "nbconvert_exporter": "python",
   "pygments_lexer": "ipython3",
   "version": "3.6.13"
  }
 },
 "nbformat": 4,
 "nbformat_minor": 5
}
