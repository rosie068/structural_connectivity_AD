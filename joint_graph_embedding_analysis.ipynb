{
 "cells": [
  {
   "cell_type": "code",
   "execution_count": 1,
   "id": "85631c93",
   "metadata": {},
   "outputs": [],
   "source": [
    "import pipeline_functions as myfunc\n",
    "import pandas as pd\n",
    "import numpy as np"
   ]
  },
  {
   "cell_type": "code",
   "execution_count": 2,
   "id": "6952c9db",
   "metadata": {},
   "outputs": [
    {
     "name": "stdout",
     "output_type": "stream",
     "text": [
      "(494, 108, 108)\n",
      "494\n"
     ]
    }
   ],
   "source": [
    "# read in adjacency matrices\n",
    "CDR_file = \"ADNI1_CDR_diagnosis.csv\"\n",
    "adj_path = \"UCSF_longitudinal_adj\"\n",
    "As, N, M, normal_group, AD_group, combined_group = myfunc.read_data(CDR_file, adj_path)\n",
    "\n",
    "# joint graph embedding\n",
    "el = 2e5\n",
    "e =  2e0\n",
    "d = 4\n",
    "l, h = myfunc.joint_graph_embedding(el, e, d, As, N, M)\n",
    "\n",
    "# group difference analysis with F-test\n",
    "tensor_all = myfunc.construct_tensor(l,h)\n",
    "num_dim = tensor_all.shape[1]\n",
    "num_struct = tensor_all.shape[-1]\n",
    "\n",
    "# by networks only\n",
    "myfunc.testing_for_networks(tensor_all, combined_group, normal_group, AD_group,\n",
    "                            num_dim,num_struct)\n",
    "\n",
    "# by network-structure pairs and network-structure-structure triples\n",
    "myfunc.testing_for_tuples(tensor_all, combined_group, normal_group, AD_group, num_dim,\n",
    "                          num_struct)\n",
    "num_dim = tensor_all.shape[1]\n",
    "num_struct = tensor_all.shape[-1]\n",
    "myfunc.testing_for_networks(tensor_all, combined_group, normal_group, AD_group,\n",
    "                            num_dim,num_struct)\n",
    "testing_for_tuples(tensor_all, combined_group, normal_group, AD_group, \n",
    "                   num_dim, num_struct)"
   ]
  },
  {
   "cell_type": "code",
   "execution_count": null,
   "id": "af8f4fc3",
   "metadata": {},
   "outputs": [],
   "source": []
  }
 ],
 "metadata": {
  "kernelspec": {
   "display_name": "myenv",
   "language": "python",
   "name": "myenv"
  },
  "language_info": {
   "codemirror_mode": {
    "name": "ipython",
    "version": 3
   },
   "file_extension": ".py",
   "mimetype": "text/x-python",
   "name": "python",
   "nbconvert_exporter": "python",
   "pygments_lexer": "ipython3",
   "version": "3.6.13"
  }
 },
 "nbformat": 4,
 "nbformat_minor": 5
}
