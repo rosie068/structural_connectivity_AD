{
 "cells": [
  {
   "cell_type": "code",
   "execution_count": 9,
   "metadata": {},
   "outputs": [
    {
     "name": "stdout",
     "output_type": "stream",
     "text": [
      "       RID VISCODE    EXAMDATE  CDGLOBAL\n",
      "0        2      sc  2005-08-17       0.0\n",
      "222      2     m06  2006-03-06       0.0\n",
      "3234     2     m36  2008-08-27       0.0\n",
      "1        3      sc  2005-08-18       1.0\n",
      "242      3     m06  2006-03-13       1.0\n",
      "...    ...     ...         ...       ...\n",
      "2873  1430     m06  2008-04-07       2.0\n",
      "3944  1430     m36  2009-10-01       2.0\n",
      "4018  1430     m24  2009-10-01       2.0\n",
      "2162  1431       f  2007-08-15       0.5\n",
      "2203  1435      sc  2007-09-04       0.5\n",
      "\n",
      "[4205 rows x 4 columns]\n"
     ]
    }
   ],
   "source": [
    "### grabbing ADNI1 data from CDR and making it diagnosis per patient/row, with time series data\n",
    "\n",
    "import pandas as pd\n",
    "import numpy as np\n",
    "import os\n",
    "\n",
    "cdr = pd.read_csv(\"CDR.csv\")\n",
    "cdr = cdr[cdr['Phase']=='ADNI1']\n",
    "cdr = cdr[['RID','VISCODE','EXAMDATE','CDGLOBAL']]\n",
    "cdr = cdr.sort_values(by=['RID','EXAMDATE'])\n",
    "print(cdr)"
   ]
  },
  {
   "cell_type": "code",
   "execution_count": 25,
   "metadata": {},
   "outputs": [],
   "source": [
    "per_patient = cdr.pivot(index='RID', columns='VISCODE', values=\"CDGLOBAL\")\n",
    "per_patient.drop('uns1', axis=1, inplace=True)\n",
    "per_patient = per_patient[['sc','f','m06','m12','m18','m24','m36','m48']]\n",
    "#print(per_patient)\n",
    "\n",
    "# fill NA's row wise\n",
    "per_patient = per_patient.T.fillna(method='ffill').T\n",
    "#print(per_patient)\n",
    "\n",
    "per_patient.to_csv(\"ADNI1_patient_diagnosis.csv\")"
   ]
  },
  {
   "cell_type": "code",
   "execution_count": null,
   "metadata": {},
   "outputs": [],
   "source": []
  }
 ],
 "metadata": {
  "kernelspec": {
   "display_name": "Python 3",
   "language": "python",
   "name": "python3"
  },
  "language_info": {
   "codemirror_mode": {
    "name": "ipython",
    "version": 3
   },
   "file_extension": ".py",
   "mimetype": "text/x-python",
   "name": "python",
   "nbconvert_exporter": "python",
   "pygments_lexer": "ipython3",
   "version": "3.8.3"
  }
 },
 "nbformat": 4,
 "nbformat_minor": 4
}
