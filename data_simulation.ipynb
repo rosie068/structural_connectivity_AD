{
 "cells": [
  {
   "cell_type": "code",
   "execution_count": 1,
   "id": "27d03c86",
   "metadata": {},
   "outputs": [],
   "source": [
    "import pandas as pd\n",
    "import numpy as np\n",
    "import os"
   ]
  },
  {
   "cell_type": "code",
   "execution_count": 2,
   "id": "e3890346",
   "metadata": {},
   "outputs": [
    {
     "name": "stdout",
     "output_type": "stream",
     "text": [
      "(494, 4) (116, 4)\n",
      "494\n",
      "322\n",
      "172\n"
     ]
    }
   ],
   "source": [
    "l = pd.read_csv('l_494by4.csv', sep=',',header=None).values\n",
    "h = pd.read_csv('h_116by4.csv', sep=',',header=None).values\n",
    "print(l.shape, h.shape)\n",
    "\n",
    "#### read the diagnosis from CDR, turn into dict\n",
    "diag = pd.read_csv(\"ADNI1_patient_diagnosis.csv\").set_index('RID')\n",
    "diag = diag.astype(float)\n",
    "## head count for each category\n",
    "# print(diag['m48'].value_counts())\n",
    "\n",
    "labels = {}\n",
    "for i in diag.index.values:\n",
    "    if diag.loc[i,'m48'] == 0:\n",
    "        labels[i] = \"Normal\"\n",
    "    elif diag.loc[i,'m48'] == 0.5:\n",
    "        labels[i] = \"Questionable\"\n",
    "    elif diag.loc[i,'m48'] == 1:\n",
    "        labels[i] = \"Mild\"\n",
    "    elif diag.loc[i,'m48'] == 2:\n",
    "        labels[i] = \"Moderate\"\n",
    "    elif diag.loc[i,'m48'] == 3:\n",
    "        labels[i] = \"Severe\"\n",
    "    else:\n",
    "        labels[i] = 'Not determined'\n",
    "#print(labels)\n",
    "\n",
    "normal_group = []\n",
    "AD_group = []\n",
    "combined_group = []\n",
    "\n",
    "corr_mats = os.listdir('Longitudinal_FreeSurfer_adjmat')\n",
    "for i in corr_mats:\n",
    "#     df = pd.read_csv('CrossSectional_FreeSurfer_adjmat/' + i, index_col=0)\n",
    "    df = pd.read_csv('Longitudinal_FreeSurfer_adjmat/' + i, index_col=0)\n",
    "    pat = int(i.split('.')[0].split('_')[1])\n",
    "        \n",
    "    if df.shape[0] == 116:\n",
    "        if labels[pat] == 'Normal' or labels[pat] == 'Questionable':\n",
    "            normal_group = np.append(normal_group, pat)\n",
    "            combined_group = np.append(combined_group, pat)\n",
    "        elif labels[pat] == 'Mild' or labels[pat] == 'Moderate' or labels[pat] == 'Severe':\n",
    "            AD_group = np.append(AD_group, pat)\n",
    "            combined_group = np.append(combined_group, pat)\n",
    "\n",
    "print(np.size(combined_group))\n",
    "print(np.size(normal_group))\n",
    "print(np.size(AD_group))"
   ]
  },
  {
   "cell_type": "code",
   "execution_count": 3,
   "id": "b2f505d9",
   "metadata": {
    "scrolled": true
   },
   "outputs": [],
   "source": [
    "### part 1\n",
    "'''\n",
    "For patient i, sigmoid(LiHH^t) = matrix of size 116*116, element ij = P(edge between structure i and j). \n",
    "Under model, every edge is sample independently as Bernoulli RV with this probability. \n",
    "Pick 2 patients, 1 healthy and 1 disease, construct their matrix and \n",
    "sample from the matrix to construct some sample graphs.\n",
    "'''\n",
    "import math\n",
    "\n",
    "def sigmoid(x):\n",
    "    if x < 0:\n",
    "        return 1 - 1/(1 + math.exp(x))\n",
    "    else:\n",
    "        return 1/(1 + math.exp(-x))\n",
    "    \n",
    "def sim_adj_mat(prob_matrix):\n",
    "    adj_mat = np.zeros((116, 116))\n",
    "    for i in range(116):\n",
    "        for j in range(i+1, 116):\n",
    "            prob = sigmoid(prob_matrix[i,j]) ## make it a probability\n",
    "            adj_mat[i,j] = np.random.binomial(1, p=prob)\n",
    "    print(np.sum(adj_mat))\n",
    "    return adj_mat"
   ]
  },
  {
   "cell_type": "code",
   "execution_count": 4,
   "id": "aee6b684",
   "metadata": {},
   "outputs": [],
   "source": [
    "def sim_both_groups(l_mat, n, dim):\n",
    "    normal_pat = np.random.choice(normal_group,n)\n",
    "    AD_pat = np.random.choice(AD_group,n)\n",
    "    normal_sim_data = np.zeros((n,116,116))\n",
    "    AD_sim_data = np.zeros((n,116,116))\n",
    "\n",
    "    for i in range(n):\n",
    "        healthy_idx = np.where(combined_group == normal_pat[i])[0]\n",
    "        AD_idx = np.where(combined_group == AD_pat[i])[0]\n",
    "\n",
    "        healthy_mat = l_mat[healthy_idx,dim] * np.matmul(h, np.transpose(h)) ##element ij is the prob of edge between\n",
    "        AD_mat = l_mat[AD_idx,dim] * np.matmul(h, np.transpose(h))\n",
    "\n",
    "        ### simulate patient data\n",
    "        normal_sim_data[i,:,:] = sim_adj_mat(healthy_mat)\n",
    "        AD_sim_data[i,:,:] = sim_adj_mat(AD_mat)\n",
    "    return normal_sim_data, AD_sim_data"
   ]
  },
  {
   "cell_type": "code",
   "execution_count": 5,
   "id": "c1cab06e",
   "metadata": {},
   "outputs": [
    {
     "name": "stdout",
     "output_type": "stream",
     "text": [
      "2398.0\n",
      "644.0\n",
      "362.0\n",
      "476.0\n",
      "2224.0\n",
      "247.0\n",
      "209.0\n",
      "860.0\n",
      "167.0\n",
      "909.0\n"
     ]
    }
   ],
   "source": [
    "fixed_l_normal, fixed_l_AD = sim_both_groups(l,5,0)"
   ]
  },
  {
   "cell_type": "code",
   "execution_count": 7,
   "id": "26a36d7f",
   "metadata": {},
   "outputs": [
    {
     "data": {
      "text/plain": [
       "<matplotlib.image.AxesImage at 0x2b1a8302a3c8>"
      ]
     },
     "execution_count": 7,
     "metadata": {},
     "output_type": "execute_result"
    },
    {
     "data": {
      "image/png": "[encoded data removed]",
      "text/plain": [
       "<Figure size 432x288 with 1 Axes>"
      ]
     },
     "metadata": {
      "needs_background": "light"
     },
     "output_type": "display_data"
    }
   ],
   "source": [
    "import matplotlib.pyplot as plt\n",
    "\n",
    "f, ax = plt.subplots()\n",
    "ax.imshow(fixed_l_normal[1])"
   ]
  },
  {
   "cell_type": "code",
   "execution_count": 10,
   "id": "69b666a8",
   "metadata": {},
   "outputs": [
    {
     "data": {
      "text/plain": [
       "<matplotlib.image.AxesImage at 0x2b1a8369ba90>"
      ]
     },
     "execution_count": 10,
     "metadata": {},
     "output_type": "execute_result"
    },
    {
     "data": {
      "image/png": "[encoded data removed]",
      "text/plain": [
       "<Figure size 432x288 with 1 Axes>"
      ]
     },
     "metadata": {
      "needs_background": "light"
     },
     "output_type": "display_data"
    }
   ],
   "source": [
    "f2, ax2 = plt.subplots()\n",
    "ax2.imshow(fixed_l_AD[1])"
   ]
  },
  {
   "cell_type": "code",
   "execution_count": 89,
   "id": "54075e97",
   "metadata": {},
   "outputs": [
    {
     "name": "stdout",
     "output_type": "stream",
     "text": [
      "[[-177.55846259    7.33423375   10.41214594  -12.08141209]]\n",
      "[[ 702.17742087 -205.67251417 -118.71060243   98.76311192]]\n"
     ]
    }
   ],
   "source": [
    "### part 2\n",
    "'''\n",
    "Instead of picking 2 patients, we will model L as RV also, want to model as multi-variate Gaussian()\n",
    "once for healthy and once for the disease. \n",
    "Generate a few random samples from this model. Use different mean and common covariance. \n",
    "L = patients*4, find the mean of each group, subtract group mean from each sample in group in L, \n",
    "covariance matrix = 4*4(L^tL/#patients). \n",
    "Then to sample from Multivariate Gaussian, sample 4 from independent standard normal variables, \n",
    "left multiple by sqrt(covariance)(scipy.linalg.sqrtm), add the mean.\n",
    "'''\n",
    "real_mean_normal = np.zeros((1,4))\n",
    "real_mean_AD = np.zeros((1,4))\n",
    "for i in range(len(combined_group)):\n",
    "    pat = combined_group[i]\n",
    "    if pat in normal_group:\n",
    "        real_mean_normal += l[i,:]\n",
    "    elif pat in AD_group:\n",
    "        real_mean_AD += l[i,:]\n",
    "real_mean_normal = real_mean_normal/len(normal_group)\n",
    "real_mean_AD = real_mean_AD/len(AD_group)\n",
    "# print(np.mean(l, axis=0))\n",
    "print(real_mean_normal)\n",
    "print(real_mean_AD)"
   ]
  },
  {
   "cell_type": "code",
   "execution_count": 97,
   "id": "68386fcb",
   "metadata": {},
   "outputs": [],
   "source": [
    "import scipy\n",
    "\n",
    "## get covariance matrix and updated mean vectors from distance\n",
    "### if distance = 0, then same as real data\n",
    "def get_params(real_mean_normal, real_mean_AD, distance):\n",
    "    mean_normal = np.zeros((1,4))\n",
    "    mean_AD = np.zeros((1,4))\n",
    "    mean_normal += distance * (real_mean_normal + real_mean_AD) / 2\n",
    "    mean_AD = real_mean_AD\n",
    "    \n",
    "    l_mean_subtracted = l\n",
    "    ## subtract group mean from each group in l\n",
    "    for i in range(len(combined_group)):\n",
    "        pat = combined_group[i]\n",
    "        if pat in normal_group:\n",
    "            l_mean_subtracted[i,:] = l_mean_subtracted[i,:] - mean_normal\n",
    "        elif pat in AD_group:\n",
    "            l_mean_subtracted[i,:] = l_mean_subtracted[i,:] - mean_AD\n",
    "\n",
    "    covar_mat = np.matmul(np.transpose(l_mean_subtracted),l_mean_subtracted)/np.size(combined_group)\n",
    "    return mean_normal, mean_AD, covar_mat\n",
    "\n",
    "def sim_both_groups_l_var(real_mean_normal, real_mean_AD, distance, n, dim):\n",
    "    sim_mean_normal, sim_mean_AD, sim_covar = get_params(real_mean_normal, real_mean_AD, distance)\n",
    "\n",
    "    sim_l = np.zeros((len(combined_group),4))\n",
    "    for i in range(494):\n",
    "        sim_l[i,:] = np.random.normal(0,1,4) ##how is this different from sampling from np.random.multivariate_normal?\n",
    "                \n",
    "    sim_l = np.matmul(sim_l, scipy.linalg.sqrtm(sim_covar)) ## left mult by square root of covar matrix\n",
    "\n",
    "    for i in range(len(combined_group)): ## add mean back in\n",
    "        pat = combined_group[i]\n",
    "        if pat in normal_group:\n",
    "            for k in range(4):\n",
    "                sim_l[i,k] += sim_mean_normal[0,k]\n",
    "        elif pat in AD_group:\n",
    "            for k in range(4):\n",
    "                sim_l[i,k] += sim_mean_AD[0,k]\n",
    "#     print(sim_l.shape)\n",
    "\n",
    "    var_l_normal, var_l_AD = sim_both_groups(sim_l,n,dim)\n",
    "    return var_l_normal, var_l_AD"
   ]
  },
  {
   "cell_type": "code",
   "execution_count": 98,
   "id": "567466ca",
   "metadata": {},
   "outputs": [
    {
     "name": "stdout",
     "output_type": "stream",
     "text": [
      "31.0\n",
      "6639.0\n",
      "6639.0\n",
      "6639.0\n",
      "decrease distance between group mean\n",
      "6639.0\n",
      "31.0\n",
      "6639.0\n",
      "31.0\n",
      "increase distance between group mean\n",
      "6639.0\n",
      "6639.0\n",
      "31.0\n",
      "6639.0\n"
     ]
    }
   ],
   "source": [
    "### normal distance\n",
    "n=2\n",
    "dim=0\n",
    "\n",
    "var_l_normal_d0, var_l_AD_d0 = sim_both_groups_l_var(real_mean_normal, real_mean_AD, 0, n, dim)\n",
    "\n",
    "print('decrease distance between group mean')\n",
    "var_l_normal_close, var_l_AD_close = sim_both_groups_l_var(real_mean_normal, real_mean_AD, 0.5, n, dim)\n",
    "\n",
    "print('increase distance between group mean')\n",
    "var_l_normal_far, var_l_AD_far = sim_both_groups_l_var(real_mean_normal, real_mean_AD, -0.5, n, dim)"
   ]
  },
  {
   "cell_type": "code",
   "execution_count": null,
   "id": "2cf6d427",
   "metadata": {},
   "outputs": [],
   "source": []
  }
 ],
 "metadata": {
  "kernelspec": {
   "display_name": "myenv",
   "language": "python",
   "name": "myenv"
  },
  "language_info": {
   "codemirror_mode": {
    "name": "ipython",
    "version": 3
   },
   "file_extension": ".py",
   "mimetype": "text/x-python",
   "name": "python",
   "nbconvert_exporter": "python",
   "pygments_lexer": "ipython3",
   "version": "3.6.13"
  }
 },
 "nbformat": 4,
 "nbformat_minor": 5
}
