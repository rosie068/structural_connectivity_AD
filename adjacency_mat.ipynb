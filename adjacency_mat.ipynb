{
 "cells": [
  {
   "cell_type": "code",
   "execution_count": 1,
   "metadata": {},
   "outputs": [],
   "source": [
    "import pandas as pd\n",
    "import numpy as np\n",
    "import os\n",
    "import datetime as dt\n",
    "import matplotlib.pyplot as plt\n",
    "import seaborn as sns\n",
    "\n",
    "'''\n",
    "create dir in current folder to save all correlation matrices\n",
    "'''\n",
    "def make_dir(dirname):\n",
    "    parent_dir = os.getcwd()\n",
    "    path = os.path.join(parent_dir, dirname)\n",
    "    os.mkdir(path)\n",
    "    \n",
    "'''\n",
    "get adjacency matrix from corr matrix, above some threshold we say there is an edge\n",
    "want to use some version of dot product generated graph\n",
    "'''\n",
    "def get_adj_mat(df, threshold):\n",
    "    #make adjacency matrix based on threshold\n",
    "    adj_mat = np.where(abs(df) >= threshold, 1, 0)\n",
    "    \n",
    "    ## fill adj mat diagonals with 0 to make hollow\n",
    "    np.fill_diagonal(adj_mat, 0)\n",
    "    \n",
    "    cols = df.columns.values\n",
    "    adj_df = pd.DataFrame(adj_mat, columns=cols, index=cols)\n",
    "    return adj_df"
   ]
  },
  {
   "cell_type": "code",
   "execution_count": 3,
   "metadata": {},
   "outputs": [],
   "source": [
    "##iterate through all good studies and generate corr matrix\n",
    "# corr_mats = os.listdir('UCSF - ADNI-1 3T Cross-Sectional FreeSurfer (5.1)')\n",
    "\n",
    "## longitudinal studies, less structures(115) more patients(699)\n",
    "corr_mats = os.listdir('UCSF - Longitudinal FreeSurfer (FreeSurfer Version 4.4)')\n",
    "\n",
    "#corr_mats = ['Patient_15.csv']\n",
    "#print(corr_mats)\n",
    "\n",
    "# make_dir('CrossSectional_FreeSurfer_adjmat')\n",
    "make_dir('Longitudinal_FreeSurfer_adjmat')\n",
    "\n",
    "for i in corr_mats:\n",
    "#     df = pd.read_csv('UCSF - ADNI-1 3T Cross-Sectional FreeSurfer (5.1)/' + i, index_col=0)\n",
    "    df = pd.read_csv('UCSF - Longitudinal FreeSurfer (FreeSurfer Version 4.4)/' + i, index_col=0)\n",
    "    adjacency = get_adj_mat(df, 0.8)\n",
    "    \n",
    "#     out_path = 'CrossSectional_FreeSurfer_adjmat/' + i\n",
    "    out_path = 'Longitudinal_FreeSurfer_adjmat/' + i\n",
    "    adjacency.to_csv(out_path)"
   ]
  },
  {
   "cell_type": "code",
   "execution_count": null,
   "metadata": {},
   "outputs": [],
   "source": []
  }
 ],
 "metadata": {
  "kernelspec": {
   "display_name": "Python 3 (ipykernel)",
   "language": "python",
   "name": "python3"
  },
  "language_info": {
   "codemirror_mode": {
    "name": "ipython",
    "version": 3
   },
   "file_extension": ".py",
   "mimetype": "text/x-python",
   "name": "python",
   "nbconvert_exporter": "python",
   "pygments_lexer": "ipython3",
   "version": "3.9.6"
  }
 },
 "nbformat": 4,
 "nbformat_minor": 4
}
